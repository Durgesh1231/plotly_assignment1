{
  "nbformat": 4,
  "nbformat_minor": 0,
  "metadata": {
    "colab": {
      "provenance": []
    },
    "kernelspec": {
      "name": "python3",
      "display_name": "Python 3"
    },
    "language_info": {
      "name": "python"
    }
  },
  "cells": [
    {
      "cell_type": "code",
      "execution_count": null,
      "metadata": {
        "id": "q9B_EK4Me9ix"
      },
      "outputs": [],
      "source": [
        "# Importing necessary libraries\n",
        "import seaborn as sns\n",
        "import plotly.express as px\n",
        "\n",
        "# Q1\n",
        "titanic = sns.load_dataset(\"titanic\")\n",
        "fig1 = px.scatter(titanic, x=\"age\", y=\"fare\", title=\"Scatter Plot of Age vs Fare\")\n",
        "fig1.show()\n",
        "\n",
        "# Q2\n",
        "tips = px.data.tips()\n",
        "fig2 = px.box(tips, x=\"day\", y=\"total_bill\", color=\"sex\", title=\"Box Plot of Total Bill by Day\")\n",
        "fig2.show()\n",
        "\n",
        "# Q3\n",
        "fig3 = px.histogram(\n",
        "    tips,\n",
        "    x=\"sex\",\n",
        "    y=\"total_bill\",\n",
        "    pattern_shape=\"smoker\",\n",
        "    color=\"day\",\n",
        "    title=\"Histogram of Total Bill by Sex\"\n",
        ")\n",
        "fig3.show()\n",
        "\n",
        "# Q4\n",
        "iris = px.data.iris()\n",
        "fig4 = px.scatter_matrix(\n",
        "    iris,\n",
        "    dimensions=[\"sepal_length\", \"sepal_width\", \"petal_length\", \"petal_width\"],\n",
        "    color=\"species\",\n",
        "    title=\"Scatter Matrix of Iris Dataset\"\n",
        ")\n",
        "fig4.show()\n",
        "\n",
        "# Q5\n",
        "fig5 = px.histogram(\n",
        "    iris,\n",
        "    x=\"sepal_length\",\n",
        "    marginal=\"rug\",\n",
        "    title=\"Distplot of Sepal Length\"\n",
        ")\n",
        "fig5.show()\n"
      ]
    }
  ]
}